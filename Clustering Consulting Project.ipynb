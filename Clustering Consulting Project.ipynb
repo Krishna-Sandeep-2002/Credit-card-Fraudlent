{
  "cells": [
    {
      "cell_type": "markdown",
      "metadata": {
        "id": "4Su_lrRHyNn5"
      },
      "source": [
        "# Clustering Consulting Project\n",
        "\n",
        "A large technology firm needs your help, they've been hacked! Luckily their forensic engineers have grabbed valuable data about the hacks, including information like session time,locations, wpm typing speed, etc. The forensic engineer relates to you what she has been able to figure out so far, she has been able to grab meta data of each session that the hackers used to connect to their servers. These are the features of the data:\n",
        "\n",
        "* 'Session_Connection_Time': How long the session lasted in minutes\n",
        "* 'Bytes Transferred': Number of MB transferred during session\n",
        "* 'Kali_Trace_Used': Indicates if the hacker was using Kali Linux\n",
        "* 'Servers_Corrupted': Number of server corrupted during the attack\n",
        "* 'Pages_Corrupted': Number of pages illegally accessed\n",
        "* 'Location': Location attack came from (Probably useless because the hackers used VPNs)\n",
        "* 'WPM_Typing_Speed': Their estimated typing speed based on session logs.\n",
        "\n",
        "\n",
        "The technology firm has 3 potential hackers that perpetrated the attack. Their certain of the first two hackers but they aren't very sure if the third hacker was involved or not. They have requested your help! Can you help figure out whether or not the third suspect had anything to do with the attacks, or was it just two hackers? It's probably not possible to know for sure, but maybe what you've just learned about Clustering can help!\n",
        "\n",
        "**One last key fact, the forensic engineer knows that the hackers trade off attacks. Meaning they should each have roughly the same amount of attacks. For example if there were 100 total attacks, then in a 2 hacker situation each should have about 50 hacks, in a three hacker situation each would have about 33 hacks. The engineer believes this is the key element to solving this, but doesn't know how to distinguish this unlabeled data into groups of hackers.**"
      ]
    },
    {
      "cell_type": "code",
      "source": [],
      "metadata": {
        "id": "kNmmXvo41LUO"
      },
      "execution_count": null,
      "outputs": []
    },
    {
      "cell_type": "code",
      "source": [
        "from google.colab import drive    #To get the authorization code by loggin into your Google account.\n",
        "drive.mount(\"/content/Mydrive\")"
      ],
      "metadata": {
        "id": "6JXJ_R7u27jy",
        "colab": {
          "base_uri": "https://localhost:8080/"
        },
        "outputId": "c9c2b805-6961-43be-e181-14640a4ad442"
      },
      "execution_count": null,
      "outputs": [
        {
          "output_type": "stream",
          "name": "stdout",
          "text": [
            "Mounted at /content/Mydrive\n"
          ]
        }
      ]
    },
    {
      "cell_type": "code",
      "execution_count": null,
      "metadata": {
        "id": "zovII6HB-6x4"
      },
      "outputs": [],
      "source": [
        "!apt-get install openjdk-8-jdk-headless -qq > /dev/null\n",
        "!wget -q https://archive.apache.org/dist/spark/spark-3.0.1/spark-3.0.1-bin-hadoop2.7.tgz"
      ]
    },
    {
      "cell_type": "code",
      "execution_count": null,
      "metadata": {
        "id": "TUjaIxA--75i"
      },
      "outputs": [],
      "source": [
        "!tar xf spark-3.0.1-bin-hadoop2.7.tgz\n"
      ]
    },
    {
      "cell_type": "code",
      "source": [
        "!pip install -q findspark"
      ],
      "metadata": {
        "id": "2fPiRza7mQlE"
      },
      "execution_count": null,
      "outputs": []
    },
    {
      "cell_type": "code",
      "execution_count": null,
      "metadata": {
        "id": "H5VT_hhU-9z2"
      },
      "outputs": [],
      "source": [
        "\n",
        "import os\n",
        "os.environ[\"JAVA_HOME\"] = \"/usr/lib/jvm/java-8-openjdk-amd64\"\n",
        "os.environ[\"SPARK_HOME\"] = \"/content//spark-3.0.1-bin-hadoop2.7\""
      ]
    },
    {
      "cell_type": "code",
      "execution_count": null,
      "metadata": {
        "id": "RclgAKyq_APL"
      },
      "outputs": [],
      "source": [
        "import findspark\n",
        "findspark.init()"
      ]
    },
    {
      "cell_type": "code",
      "execution_count": null,
      "metadata": {
        "id": "gg3MkELp_FO7"
      },
      "outputs": [],
      "source": [
        "from pyspark.sql.types import *\n",
        "from pyspark.sql.functions import *"
      ]
    },
    {
      "cell_type": "code",
      "execution_count": null,
      "metadata": {
        "id": "-9HU_CnG_M-D"
      },
      "outputs": [],
      "source": [
        "import pyspark\n",
        "from pyspark.sql import SparkSession"
      ]
    },
    {
      "cell_type": "code",
      "execution_count": null,
      "metadata": {
        "id": "isSncgZmvVh2"
      },
      "outputs": [],
      "source": [
        "from pyspark.conf import SparkConf\n",
        "from pyspark import SparkContext\n",
        "from pyspark.sql import SparkSession\n",
        "\n",
        "conf = SparkConf().setAppName(\"Customer Use Case\").setMaster('local')\n",
        "sc = SparkContext(conf=conf)\n",
        "spark = SparkSession(sc)"
      ]
    },
    {
      "cell_type": "code",
      "source": [
        "conf"
      ],
      "metadata": {
        "id": "NnYSwjb44nMj",
        "colab": {
          "base_uri": "https://localhost:8080/"
        },
        "outputId": "e2731c0e-727e-4bc0-ea81-a66c45bf9a79"
      },
      "execution_count": null,
      "outputs": [
        {
          "output_type": "execute_result",
          "data": {
            "text/plain": [
              "<pyspark.conf.SparkConf at 0x7f8b967000d0>"
            ]
          },
          "metadata": {},
          "execution_count": 10
        }
      ]
    },
    {
      "cell_type": "code",
      "source": [
        "sc"
      ],
      "metadata": {
        "id": "TSsVBsFx4m2r",
        "colab": {
          "base_uri": "https://localhost:8080/",
          "height": 196
        },
        "outputId": "7b1155b6-769e-4ca2-fbb3-3b615c230df6"
      },
      "execution_count": null,
      "outputs": [
        {
          "output_type": "execute_result",
          "data": {
            "text/plain": [
              "<SparkContext master=local appName=Customer Use Case>"
            ],
            "text/html": [
              "\n",
              "        <div>\n",
              "            <p><b>SparkContext</b></p>\n",
              "\n",
              "            <p><a href=\"http://06cabab6cb08:4040\">Spark UI</a></p>\n",
              "\n",
              "            <dl>\n",
              "              <dt>Version</dt>\n",
              "                <dd><code>v3.0.1</code></dd>\n",
              "              <dt>Master</dt>\n",
              "                <dd><code>local</code></dd>\n",
              "              <dt>AppName</dt>\n",
              "                <dd><code>Customer Use Case</code></dd>\n",
              "            </dl>\n",
              "        </div>\n",
              "        "
            ]
          },
          "metadata": {},
          "execution_count": 11
        }
      ]
    },
    {
      "cell_type": "code",
      "source": [
        "spark"
      ],
      "metadata": {
        "id": "MTzhqBKV4mr4",
        "colab": {
          "base_uri": "https://localhost:8080/",
          "height": 219
        },
        "outputId": "d6d041d3-2306-448d-b3fd-ce395e4ed1a8"
      },
      "execution_count": null,
      "outputs": [
        {
          "output_type": "execute_result",
          "data": {
            "text/plain": [
              "<pyspark.sql.session.SparkSession at 0x7f8b96700150>"
            ],
            "text/html": [
              "\n",
              "            <div>\n",
              "                <p><b>SparkSession - in-memory</b></p>\n",
              "                \n",
              "        <div>\n",
              "            <p><b>SparkContext</b></p>\n",
              "\n",
              "            <p><a href=\"http://06cabab6cb08:4040\">Spark UI</a></p>\n",
              "\n",
              "            <dl>\n",
              "              <dt>Version</dt>\n",
              "                <dd><code>v3.0.1</code></dd>\n",
              "              <dt>Master</dt>\n",
              "                <dd><code>local</code></dd>\n",
              "              <dt>AppName</dt>\n",
              "                <dd><code>Customer Use Case</code></dd>\n",
              "            </dl>\n",
              "        </div>\n",
              "        \n",
              "            </div>\n",
              "        "
            ]
          },
          "metadata": {},
          "execution_count": 12
        }
      ]
    },
    {
      "cell_type": "code",
      "execution_count": null,
      "metadata": {
        "id": "5wxyWpqcvVh3"
      },
      "outputs": [],
      "source": [
        "from pyspark.sql.types import *\n",
        "from pyspark.sql.functions import *\n",
        "# from pyspark.sql.functions import isnan, when, count, col, countDistinct"
      ]
    },
    {
      "cell_type": "code",
      "source": [
        "dataschema = StructType([\n",
        "             StructField(\"Session_Connection_Time\",DoubleType(),True),\n",
        "             StructField(\"Bytes_Transferred\",DoubleType(),True),\n",
        "             StructField(\"Kali_Trace_Used\",StringType(),True),\n",
        "             StructField(\"Servers_Corrupted\",DoubleType(),True),\n",
        "             StructField(\"Pages_Corrupted\",DoubleType(),True),\n",
        "             StructField(\"Location\",StringType(),True),\n",
        "             StructField(\"WPM_Typing_speed\",DoubleType(),True),\n",
        "\n",
        "])"
      ],
      "metadata": {
        "id": "_YcgUZUw3HE2"
      },
      "execution_count": null,
      "outputs": []
    },
    {
      "cell_type": "code",
      "source": [
        "hackdf = spark.read.format('csv').option('header','true').option('inferSchema','true').load(\"/content/hack_data.csv\", schema=dataschema)"
      ],
      "metadata": {
        "id": "rHoEDSJY43Jz"
      },
      "execution_count": null,
      "outputs": []
    },
    {
      "cell_type": "code",
      "source": [
        "import pyspark.sql.functions as func\n",
        "hackdf = hackdf.withColumn(\"Servers_Corrupted\",func.round(hackdf[\"Servers_Corrupted\"]).cast(\"integer\"))"
      ],
      "metadata": {
        "id": "36LMX0gj6J1N"
      },
      "execution_count": null,
      "outputs": []
    },
    {
      "cell_type": "code",
      "source": [
        "\n",
        "hackdf.printSchema()"
      ],
      "metadata": {
        "colab": {
          "base_uri": "https://localhost:8080/"
        },
        "id": "3sDje5Dg5VXE",
        "outputId": "28ab911a-7fe2-4c55-e9f3-257658b582f6"
      },
      "execution_count": null,
      "outputs": [
        {
          "output_type": "stream",
          "name": "stdout",
          "text": [
            "root\n",
            " |-- Session_Connection_Time: double (nullable = true)\n",
            " |-- Bytes_Transferred: double (nullable = true)\n",
            " |-- Kali_Trace_Used: string (nullable = true)\n",
            " |-- Servers_Corrupted: integer (nullable = true)\n",
            " |-- Pages_Corrupted: double (nullable = true)\n",
            " |-- Location: string (nullable = true)\n",
            " |-- WPM_Typing_speed: double (nullable = true)\n",
            "\n"
          ]
        }
      ]
    },
    {
      "cell_type": "code",
      "source": [
        "hackdf.show()"
      ],
      "metadata": {
        "colab": {
          "base_uri": "https://localhost:8080/"
        },
        "id": "WPpMnCM45bdX",
        "outputId": "3ef57c0f-e9dc-4a75-949d-bb0c2594885c"
      },
      "execution_count": null,
      "outputs": [
        {
          "output_type": "stream",
          "name": "stdout",
          "text": [
            "+-----------------------+-----------------+---------------+-----------------+---------------+--------------------+----------------+\n",
            "|Session_Connection_Time|Bytes_Transferred|Kali_Trace_Used|Servers_Corrupted|Pages_Corrupted|            Location|WPM_Typing_speed|\n",
            "+-----------------------+-----------------+---------------+-----------------+---------------+--------------------+----------------+\n",
            "|                    8.0|           391.09|              1|                3|            7.0|            Slovenia|           72.37|\n",
            "|                   20.0|           720.99|              0|                3|            9.0|British Virgin Is...|           69.08|\n",
            "|                   31.0|           356.32|              1|                4|            8.0|             Tokelau|           70.58|\n",
            "|                    2.0|           228.08|              1|                2|            8.0|             Bolivia|            70.8|\n",
            "|                   20.0|            408.5|              0|                4|            8.0|                Iraq|           71.28|\n",
            "|                    1.0|           390.69|              1|                3|            9.0|    Marshall Islands|           71.57|\n",
            "|                   18.0|           342.97|              1|                5|            7.0|             Georgia|           72.32|\n",
            "|                   22.0|           101.61|              1|                3|            7.0|         Timor-Leste|           72.03|\n",
            "|                   15.0|           275.53|              1|                4|            8.0|Palestinian Terri...|           70.17|\n",
            "|                   12.0|           424.83|              1|                3|            8.0|          Bangladesh|           69.99|\n",
            "|                   15.0|           249.09|              1|                3|            9.0|Northern Mariana ...|           70.77|\n",
            "|                   32.0|           242.48|              0|                4|            8.0|            Zimbabwe|           67.93|\n",
            "|                   23.0|           514.54|              0|                3|            8.0|         Isle of Man|           68.56|\n",
            "|                    9.0|           284.77|              0|                3|            9.0|Sao Tome and Prin...|           70.82|\n",
            "|                   27.0|           779.25|              1|                2|            8.0|              Greece|           72.73|\n",
            "|                   12.0|           307.31|              1|                3|            7.0|     Solomon Islands|           67.95|\n",
            "|                   21.0|           355.94|              1|                2|            7.0|       Guinea-Bissau|            72.0|\n",
            "|                   10.0|           372.65|              0|                3|            7.0|        Burkina Faso|           69.19|\n",
            "|                   20.0|           347.23|              1|                2|            7.0|            Mongolia|           70.41|\n",
            "|                   22.0|           456.57|              0|                2|            8.0|             Nigeria|           69.35|\n",
            "+-----------------------+-----------------+---------------+-----------------+---------------+--------------------+----------------+\n",
            "only showing top 20 rows\n",
            "\n"
          ]
        }
      ]
    },
    {
      "cell_type": "code",
      "source": [
        "hackdf = hackdf.drop(\"Location\")"
      ],
      "metadata": {
        "id": "DaadL4BV5fEn"
      },
      "execution_count": null,
      "outputs": []
    },
    {
      "cell_type": "code",
      "source": [
        "hackdf.describe().select(\"summary\",\"Session_Connection_Time\",\"Bytes_Transferred\",\"Servers_Corrupted\",\"Pages_Corrupted\",\"WPM_Typing_speed\").show()"
      ],
      "metadata": {
        "colab": {
          "base_uri": "https://localhost:8080/"
        },
        "id": "pxnX3pvo7Cpi",
        "outputId": "81cf815c-0a2b-4d71-bdd8-33fdc0bb9069"
      },
      "execution_count": null,
      "outputs": [
        {
          "output_type": "stream",
          "name": "stdout",
          "text": [
            "+-------+-----------------------+------------------+-----------------+------------------+------------------+\n",
            "|summary|Session_Connection_Time| Bytes_Transferred|Servers_Corrupted|   Pages_Corrupted|  WPM_Typing_speed|\n",
            "+-------+-----------------------+------------------+-----------------+------------------+------------------+\n",
            "|  count|                    334|               334|              334|               334|               334|\n",
            "|   mean|     30.008982035928145| 607.2452694610777|5.278443113772455|10.838323353293413|57.342395209580864|\n",
            "| stddev|     14.088200614636158|286.33593163576757|2.325666161415226|  3.06352633036022| 13.41106336843464|\n",
            "|    min|                    1.0|              10.0|                1|               6.0|              40.0|\n",
            "|    max|                   60.0|            1330.5|               10|              15.0|              75.0|\n",
            "+-------+-----------------------+------------------+-----------------+------------------+------------------+\n",
            "\n"
          ]
        }
      ]
    },
    {
      "cell_type": "code",
      "source": [
        "data_df = hackdf.na.drop(how=\"any\")"
      ],
      "metadata": {
        "id": "RqxA7E7R7jrC"
      },
      "execution_count": null,
      "outputs": []
    },
    {
      "cell_type": "code",
      "source": [
        "data_df.count()"
      ],
      "metadata": {
        "colab": {
          "base_uri": "https://localhost:8080/"
        },
        "id": "MQroT7pC8pMR",
        "outputId": "9071fe27-75aa-420d-a1cf-77007e2c9c0c"
      },
      "execution_count": null,
      "outputs": [
        {
          "output_type": "execute_result",
          "data": {
            "text/plain": [
              "334"
            ]
          },
          "metadata": {},
          "execution_count": 73
        }
      ]
    },
    {
      "cell_type": "code",
      "source": [
        "hackdf.count()"
      ],
      "metadata": {
        "colab": {
          "base_uri": "https://localhost:8080/"
        },
        "id": "NzJWZbDelH6g",
        "outputId": "fbe6afea-8db2-4ef3-dd87-2f6583e72371"
      },
      "execution_count": null,
      "outputs": [
        {
          "output_type": "execute_result",
          "data": {
            "text/plain": [
              "334"
            ]
          },
          "metadata": {},
          "execution_count": 74
        }
      ]
    },
    {
      "cell_type": "code",
      "source": [
        "hackdf.dtypes"
      ],
      "metadata": {
        "colab": {
          "base_uri": "https://localhost:8080/"
        },
        "id": "QJjvAnMy9IsY",
        "outputId": "331937b8-2574-4da8-846c-a7afaece2334"
      },
      "execution_count": null,
      "outputs": [
        {
          "output_type": "execute_result",
          "data": {
            "text/plain": [
              "[('Session_Connection_Time', 'double'),\n",
              " ('Bytes_Transferred', 'double'),\n",
              " ('Kali_Trace_Used', 'string'),\n",
              " ('Servers_Corrupted', 'int'),\n",
              " ('Pages_Corrupted', 'double'),\n",
              " ('WPM_Typing_speed', 'double')]"
            ]
          },
          "metadata": {},
          "execution_count": 75
        }
      ]
    },
    {
      "cell_type": "code",
      "source": [
        "cat_cols =[\"Kali_Trace_Used\"]\n",
        "num_cols=[\"Session_Connection_Time\",\"Bytes_Transferred\",\"Servers_Corrupted\",\"Pages_Corrupted\",\"WPM_Typing_speed\"]"
      ],
      "metadata": {
        "id": "9S4QcRmT9GLs"
      },
      "execution_count": null,
      "outputs": []
    },
    {
      "cell_type": "code",
      "source": [
        "(train_df,test_df) =hackdf.randomSplit([0.7,0.3])"
      ],
      "metadata": {
        "id": "2bIsAtME854D"
      },
      "execution_count": null,
      "outputs": []
    },
    {
      "cell_type": "code",
      "source": [
        "train_df.count()"
      ],
      "metadata": {
        "colab": {
          "base_uri": "https://localhost:8080/"
        },
        "id": "BCBrcRc09ZWn",
        "outputId": "1278ba72-dcf0-40ec-aac3-f8780391d29f"
      },
      "execution_count": null,
      "outputs": [
        {
          "output_type": "execute_result",
          "data": {
            "text/plain": [
              "229"
            ]
          },
          "metadata": {},
          "execution_count": 105
        }
      ]
    },
    {
      "cell_type": "code",
      "source": [
        "\n",
        "test_df.count()"
      ],
      "metadata": {
        "colab": {
          "base_uri": "https://localhost:8080/"
        },
        "id": "bu1PSTBT9bla",
        "outputId": "15a36b09-a0d7-4ac9-c7e5-920fd549ac23"
      },
      "execution_count": null,
      "outputs": [
        {
          "output_type": "execute_result",
          "data": {
            "text/plain": [
              "105"
            ]
          },
          "metadata": {},
          "execution_count": 106
        }
      ]
    },
    {
      "cell_type": "code",
      "source": [
        "from pyspark.ml.feature import VectorAssembler\n",
        "vector_assembler_numVars = VectorAssembler(inputCols=num_cols , outputCol=\"num_features_all\")"
      ],
      "metadata": {
        "id": "1owFT5Ph9dyv"
      },
      "execution_count": null,
      "outputs": []
    },
    {
      "cell_type": "code",
      "source": [
        "from pyspark.ml.feature import MinMaxScaler\n",
        "minMax_Scalar_NumVars = MinMaxScaler(inputCol=\"num_features_all\",outputCol=\"scaled_num_features\")"
      ],
      "metadata": {
        "id": "AJH92diPAvHT"
      },
      "execution_count": null,
      "outputs": []
    },
    {
      "cell_type": "code",
      "source": [
        "from pyspark.ml.feature import StringIndexer, OneHotEncoder\n",
        "indexers_Cat = [StringIndexer(inputCol=cat_var_name,outputCol=\"{0}_index\".format(cat_cols))\n",
        "                for cat_var_name in cat_cols]\n",
        "\n",
        "encoders_Cat = [OneHotEncoder(inputCol=indexer.getOutputCol(),outputCol=\"{0}_vec\".format(indexer.getInputCol())) for indexer in indexers_Cat]\n",
        "\n",
        "assembler_Cat = VectorAssembler(inputCols=[encoder.getOutputCol() for encoder in encoders_Cat],outputCol=\"cat_features\")\n",
        "assembler = VectorAssembler(inputCols=[\"scaled_num_features\",\"cat_features\"],outputCol=\"features\")"
      ],
      "metadata": {
        "id": "xAwdLus1CW4O"
      },
      "execution_count": null,
      "outputs": []
    },
    {
      "cell_type": "code",
      "source": [
        "preprocessingStages = [vector_assembler_numVars] + [minMax_Scalar_NumVars] + indexers_Cat + encoders_Cat + [assembler_Cat] + [assembler]"
      ],
      "metadata": {
        "id": "Ja_pQT3mDRA1"
      },
      "execution_count": null,
      "outputs": []
    },
    {
      "cell_type": "code",
      "source": [
        "preprocessingStages"
      ],
      "metadata": {
        "colab": {
          "base_uri": "https://localhost:8080/"
        },
        "id": "fHf8JUyYIJx6",
        "outputId": "727fb9a0-e707-43ac-ef00-738ca46f53bb"
      },
      "execution_count": null,
      "outputs": [
        {
          "output_type": "execute_result",
          "data": {
            "text/plain": [
              "[VectorAssembler_2447a0f9a75f,\n",
              " MinMaxScaler_0fea9b06ec33,\n",
              " StringIndexer_e813364fc5e7,\n",
              " OneHotEncoder_ad6835306cf9,\n",
              " VectorAssembler_8adaf482e931,\n",
              " VectorAssembler_da42360ece43]"
            ]
          },
          "metadata": {},
          "execution_count": 111
        }
      ]
    },
    {
      "cell_type": "code",
      "source": [
        "df=hackdf.toPandas()"
      ],
      "metadata": {
        "id": "ab9uY_UCZsDQ"
      },
      "execution_count": null,
      "outputs": []
    },
    {
      "cell_type": "code",
      "source": [
        "df"
      ],
      "metadata": {
        "id": "olqIHls2az7z",
        "outputId": "7559547d-02d7-4dae-c8cc-9a4e0800c785",
        "colab": {
          "base_uri": "https://localhost:8080/",
          "height": 423
        }
      },
      "execution_count": null,
      "outputs": [
        {
          "output_type": "execute_result",
          "data": {
            "text/plain": [
              "     Session_Connection_Time  Bytes_Transferred Kali_Trace_Used  \\\n",
              "0                        8.0             391.09               1   \n",
              "1                       20.0             720.99               0   \n",
              "2                       31.0             356.32               1   \n",
              "3                        2.0             228.08               1   \n",
              "4                       20.0             408.50               0   \n",
              "..                       ...                ...             ...   \n",
              "329                     39.0             761.91               1   \n",
              "330                     43.0             983.48               0   \n",
              "331                     39.0             690.22               1   \n",
              "332                     36.0            1060.69               1   \n",
              "333                     42.0             729.47               0   \n",
              "\n",
              "     Servers_Corrupted  Pages_Corrupted  WPM_Typing_speed  \n",
              "0                    3              7.0             72.37  \n",
              "1                    3              9.0             69.08  \n",
              "2                    4              8.0             70.58  \n",
              "3                    2              8.0             70.80  \n",
              "4                    4              8.0             71.28  \n",
              "..                 ...              ...               ...  \n",
              "329                  7             14.0             43.23  \n",
              "330                  9             13.0             43.21  \n",
              "331                  7             13.0             42.75  \n",
              "332                  6             14.0             43.86  \n",
              "333                  8             14.0             45.27  \n",
              "\n",
              "[334 rows x 6 columns]"
            ],
            "text/html": [
              "\n",
              "  <div id=\"df-293c97af-a445-4c71-b3d0-294ec29146f3\">\n",
              "    <div class=\"colab-df-container\">\n",
              "      <div>\n",
              "<style scoped>\n",
              "    .dataframe tbody tr th:only-of-type {\n",
              "        vertical-align: middle;\n",
              "    }\n",
              "\n",
              "    .dataframe tbody tr th {\n",
              "        vertical-align: top;\n",
              "    }\n",
              "\n",
              "    .dataframe thead th {\n",
              "        text-align: right;\n",
              "    }\n",
              "</style>\n",
              "<table border=\"1\" class=\"dataframe\">\n",
              "  <thead>\n",
              "    <tr style=\"text-align: right;\">\n",
              "      <th></th>\n",
              "      <th>Session_Connection_Time</th>\n",
              "      <th>Bytes_Transferred</th>\n",
              "      <th>Kali_Trace_Used</th>\n",
              "      <th>Servers_Corrupted</th>\n",
              "      <th>Pages_Corrupted</th>\n",
              "      <th>WPM_Typing_speed</th>\n",
              "    </tr>\n",
              "  </thead>\n",
              "  <tbody>\n",
              "    <tr>\n",
              "      <th>0</th>\n",
              "      <td>8.0</td>\n",
              "      <td>391.09</td>\n",
              "      <td>1</td>\n",
              "      <td>3</td>\n",
              "      <td>7.0</td>\n",
              "      <td>72.37</td>\n",
              "    </tr>\n",
              "    <tr>\n",
              "      <th>1</th>\n",
              "      <td>20.0</td>\n",
              "      <td>720.99</td>\n",
              "      <td>0</td>\n",
              "      <td>3</td>\n",
              "      <td>9.0</td>\n",
              "      <td>69.08</td>\n",
              "    </tr>\n",
              "    <tr>\n",
              "      <th>2</th>\n",
              "      <td>31.0</td>\n",
              "      <td>356.32</td>\n",
              "      <td>1</td>\n",
              "      <td>4</td>\n",
              "      <td>8.0</td>\n",
              "      <td>70.58</td>\n",
              "    </tr>\n",
              "    <tr>\n",
              "      <th>3</th>\n",
              "      <td>2.0</td>\n",
              "      <td>228.08</td>\n",
              "      <td>1</td>\n",
              "      <td>2</td>\n",
              "      <td>8.0</td>\n",
              "      <td>70.80</td>\n",
              "    </tr>\n",
              "    <tr>\n",
              "      <th>4</th>\n",
              "      <td>20.0</td>\n",
              "      <td>408.50</td>\n",
              "      <td>0</td>\n",
              "      <td>4</td>\n",
              "      <td>8.0</td>\n",
              "      <td>71.28</td>\n",
              "    </tr>\n",
              "    <tr>\n",
              "      <th>...</th>\n",
              "      <td>...</td>\n",
              "      <td>...</td>\n",
              "      <td>...</td>\n",
              "      <td>...</td>\n",
              "      <td>...</td>\n",
              "      <td>...</td>\n",
              "    </tr>\n",
              "    <tr>\n",
              "      <th>329</th>\n",
              "      <td>39.0</td>\n",
              "      <td>761.91</td>\n",
              "      <td>1</td>\n",
              "      <td>7</td>\n",
              "      <td>14.0</td>\n",
              "      <td>43.23</td>\n",
              "    </tr>\n",
              "    <tr>\n",
              "      <th>330</th>\n",
              "      <td>43.0</td>\n",
              "      <td>983.48</td>\n",
              "      <td>0</td>\n",
              "      <td>9</td>\n",
              "      <td>13.0</td>\n",
              "      <td>43.21</td>\n",
              "    </tr>\n",
              "    <tr>\n",
              "      <th>331</th>\n",
              "      <td>39.0</td>\n",
              "      <td>690.22</td>\n",
              "      <td>1</td>\n",
              "      <td>7</td>\n",
              "      <td>13.0</td>\n",
              "      <td>42.75</td>\n",
              "    </tr>\n",
              "    <tr>\n",
              "      <th>332</th>\n",
              "      <td>36.0</td>\n",
              "      <td>1060.69</td>\n",
              "      <td>1</td>\n",
              "      <td>6</td>\n",
              "      <td>14.0</td>\n",
              "      <td>43.86</td>\n",
              "    </tr>\n",
              "    <tr>\n",
              "      <th>333</th>\n",
              "      <td>42.0</td>\n",
              "      <td>729.47</td>\n",
              "      <td>0</td>\n",
              "      <td>8</td>\n",
              "      <td>14.0</td>\n",
              "      <td>45.27</td>\n",
              "    </tr>\n",
              "  </tbody>\n",
              "</table>\n",
              "<p>334 rows × 6 columns</p>\n",
              "</div>\n",
              "      <button class=\"colab-df-convert\" onclick=\"convertToInteractive('df-293c97af-a445-4c71-b3d0-294ec29146f3')\"\n",
              "              title=\"Convert this dataframe to an interactive table.\"\n",
              "              style=\"display:none;\">\n",
              "        \n",
              "  <svg xmlns=\"http://www.w3.org/2000/svg\" height=\"24px\"viewBox=\"0 0 24 24\"\n",
              "       width=\"24px\">\n",
              "    <path d=\"M0 0h24v24H0V0z\" fill=\"none\"/>\n",
              "    <path d=\"M18.56 5.44l.94 2.06.94-2.06 2.06-.94-2.06-.94-.94-2.06-.94 2.06-2.06.94zm-11 1L8.5 8.5l.94-2.06 2.06-.94-2.06-.94L8.5 2.5l-.94 2.06-2.06.94zm10 10l.94 2.06.94-2.06 2.06-.94-2.06-.94-.94-2.06-.94 2.06-2.06.94z\"/><path d=\"M17.41 7.96l-1.37-1.37c-.4-.4-.92-.59-1.43-.59-.52 0-1.04.2-1.43.59L10.3 9.45l-7.72 7.72c-.78.78-.78 2.05 0 2.83L4 21.41c.39.39.9.59 1.41.59.51 0 1.02-.2 1.41-.59l7.78-7.78 2.81-2.81c.8-.78.8-2.07 0-2.86zM5.41 20L4 18.59l7.72-7.72 1.47 1.35L5.41 20z\"/>\n",
              "  </svg>\n",
              "      </button>\n",
              "      \n",
              "  <style>\n",
              "    .colab-df-container {\n",
              "      display:flex;\n",
              "      flex-wrap:wrap;\n",
              "      gap: 12px;\n",
              "    }\n",
              "\n",
              "    .colab-df-convert {\n",
              "      background-color: #E8F0FE;\n",
              "      border: none;\n",
              "      border-radius: 50%;\n",
              "      cursor: pointer;\n",
              "      display: none;\n",
              "      fill: #1967D2;\n",
              "      height: 32px;\n",
              "      padding: 0 0 0 0;\n",
              "      width: 32px;\n",
              "    }\n",
              "\n",
              "    .colab-df-convert:hover {\n",
              "      background-color: #E2EBFA;\n",
              "      box-shadow: 0px 1px 2px rgba(60, 64, 67, 0.3), 0px 1px 3px 1px rgba(60, 64, 67, 0.15);\n",
              "      fill: #174EA6;\n",
              "    }\n",
              "\n",
              "    [theme=dark] .colab-df-convert {\n",
              "      background-color: #3B4455;\n",
              "      fill: #D2E3FC;\n",
              "    }\n",
              "\n",
              "    [theme=dark] .colab-df-convert:hover {\n",
              "      background-color: #434B5C;\n",
              "      box-shadow: 0px 1px 3px 1px rgba(0, 0, 0, 0.15);\n",
              "      filter: drop-shadow(0px 1px 2px rgba(0, 0, 0, 0.3));\n",
              "      fill: #FFFFFF;\n",
              "    }\n",
              "  </style>\n",
              "\n",
              "      <script>\n",
              "        const buttonEl =\n",
              "          document.querySelector('#df-293c97af-a445-4c71-b3d0-294ec29146f3 button.colab-df-convert');\n",
              "        buttonEl.style.display =\n",
              "          google.colab.kernel.accessAllowed ? 'block' : 'none';\n",
              "\n",
              "        async function convertToInteractive(key) {\n",
              "          const element = document.querySelector('#df-293c97af-a445-4c71-b3d0-294ec29146f3');\n",
              "          const dataTable =\n",
              "            await google.colab.kernel.invokeFunction('convertToInteractive',\n",
              "                                                     [key], {});\n",
              "          if (!dataTable) return;\n",
              "\n",
              "          const docLinkHtml = 'Like what you see? Visit the ' +\n",
              "            '<a target=\"_blank\" href=https://colab.research.google.com/notebooks/data_table.ipynb>data table notebook</a>'\n",
              "            + ' to learn more about interactive tables.';\n",
              "          element.innerHTML = '';\n",
              "          dataTable['output_type'] = 'display_data';\n",
              "          await google.colab.output.renderOutput(dataTable, element);\n",
              "          const docLink = document.createElement('div');\n",
              "          docLink.innerHTML = docLinkHtml;\n",
              "          element.appendChild(docLink);\n",
              "        }\n",
              "      </script>\n",
              "    </div>\n",
              "  </div>\n",
              "  "
            ]
          },
          "metadata": {},
          "execution_count": 113
        }
      ]
    },
    {
      "cell_type": "code",
      "source": [
        "import pandas as pd"
      ],
      "metadata": {
        "id": "2e0HAySxJ8od"
      },
      "execution_count": null,
      "outputs": []
    },
    {
      "cell_type": "code",
      "source": [
        "import matplotlib.pyplot as plt\n",
        "from sklearn.cluster import KMeans"
      ],
      "metadata": {
        "id": "YptwSyDvIPsX"
      },
      "execution_count": null,
      "outputs": []
    },
    {
      "cell_type": "code",
      "source": [
        "distortions = []\n",
        "K = range(1,10)\n",
        "for k in K:\n",
        "    kmeanModel = KMeans(n_clusters=k)\n",
        "    kmeanModel.fit(df)\n",
        "    distortions.append(kmeanModel.inertia_)"
      ],
      "metadata": {
        "id": "WfmT4C8DI6O1"
      },
      "execution_count": null,
      "outputs": []
    },
    {
      "cell_type": "code",
      "source": [
        "plt.figure(figsize=(16,8))\n",
        "plt.plot(K, distortions, 'bx-')\n",
        "plt.xlabel('k')\n",
        "plt.ylabel('Distortion')\n",
        "plt.title('The Elbow Method showing the optimal k')\n",
        "plt.show()"
      ],
      "metadata": {
        "id": "ctVfCFT-JBdJ",
        "colab": {
          "base_uri": "https://localhost:8080/",
          "height": 513
        },
        "outputId": "d5026f73-1983-4ab1-e026-6bcc2c1579e0"
      },
      "execution_count": null,
      "outputs": [
        {
          "output_type": "display_data",
          "data": {
            "text/plain": [
              "<Figure size 1152x576 with 1 Axes>"
            ],
            "image/png": "[encoded data removed]"
          },
          "metadata": {
            "needs_background": "light"
          }
        }
      ]
    },
    {
      "cell_type": "markdown",
      "source": [
        "From Elbow graph k=3 which is optimal for this case. Now we can run a K-Means using as n_clusters the number 3."
      ],
      "metadata": {
        "id": "R7PLp8WApzZd"
      }
    },
    {
      "cell_type": "code",
      "source": [
        "from pyspark.ml.clustering import KMeans\n",
        "kmeans = KMeans(k=3,featuresCol='features',seed=1)\n",
        "from pyspark.ml import Pipeline\n",
        "km_pipeline = Pipeline(stages=preprocessingStages+[kmeans])\n",
        "km_pipeline_model = km_pipeline.fit(hackdf)"
      ],
      "metadata": {
        "id": "OzmRRljdc4NJ"
      },
      "execution_count": null,
      "outputs": []
    },
    {
      "cell_type": "code",
      "source": [
        "km_pipeline_model.stages[-1]"
      ],
      "metadata": {
        "colab": {
          "base_uri": "https://localhost:8080/"
        },
        "id": "02-fR9gWgOAG",
        "outputId": "28ef923a-5bf1-4a5d-f634-34f5ab892a3d"
      },
      "execution_count": null,
      "outputs": [
        {
          "output_type": "execute_result",
          "data": {
            "text/plain": [
              "KMeansModel: uid=KMeans_1c3dcfd4e193, k=3, distanceMeasure=euclidean, numFeatures=6"
            ]
          },
          "metadata": {},
          "execution_count": 133
        }
      ]
    },
    {
      "cell_type": "code",
      "source": [
        "Prediction = km_pipeline_model.transform(hackdf)"
      ],
      "metadata": {
        "id": "oh5GJx9KiQs-"
      },
      "execution_count": null,
      "outputs": []
    },
    {
      "cell_type": "code",
      "source": [
        "Final_pred = Prediction.groupBy('prediction').count().show()      #The hackers doesn't have equal amount of attacks so we can say that 3rd hack was involved"
      ],
      "metadata": {
        "colab": {
          "base_uri": "https://localhost:8080/"
        },
        "id": "obWdykUyirfx",
        "outputId": "492a3d16-8b62-49d6-9d03-48f30a407ade"
      },
      "execution_count": null,
      "outputs": [
        {
          "output_type": "stream",
          "name": "stdout",
          "text": [
            "+----------+-----+\n",
            "|prediction|count|\n",
            "+----------+-----+\n",
            "|         1|   83|\n",
            "|         2|   84|\n",
            "|         0|  167|\n",
            "+----------+-----+\n",
            "\n"
          ]
        }
      ]
    },
    {
      "cell_type": "code",
      "source": [
        "kmeans_1 = KMeans(k=2,featuresCol='features',seed=1)\n",
        "km_pipeline_1 = Pipeline(stages=preprocessingStages+[kmeans_1])\n",
        "km_pip = km_pipeline_1.fit(hackdf)"
      ],
      "metadata": {
        "id": "XeRCeiXYjdQU"
      },
      "execution_count": null,
      "outputs": []
    },
    {
      "cell_type": "code",
      "source": [
        "PRED = km_pip.transform(hackdf)"
      ],
      "metadata": {
        "id": "JMPnmNFdliQ5"
      },
      "execution_count": null,
      "outputs": []
    },
    {
      "cell_type": "code",
      "source": [],
      "metadata": {
        "id": "kJ0L5OeGsh1q"
      },
      "execution_count": null,
      "outputs": []
    },
    {
      "cell_type": "code",
      "source": [
        "PRED.groupBy(\"prediction\").count().show()      #Now the hackers have equal amount of attacks"
      ],
      "metadata": {
        "colab": {
          "base_uri": "https://localhost:8080/"
        },
        "id": "YG1UBm65lsoM",
        "outputId": "d874ee06-ac98-469e-fc9c-7780053b137d"
      },
      "execution_count": null,
      "outputs": [
        {
          "output_type": "stream",
          "name": "stdout",
          "text": [
            "+----------+-----+\n",
            "|prediction|count|\n",
            "+----------+-----+\n",
            "|         1|  167|\n",
            "|         0|  167|\n",
            "+----------+-----+\n",
            "\n"
          ]
        }
      ]
    },
    {
      "cell_type": "code",
      "source": [
        "prediction_1 = PRED.toPandas()"
      ],
      "metadata": {
        "id": "Qkb4QWLdsQo-"
      },
      "execution_count": null,
      "outputs": []
    },
    {
      "cell_type": "code",
      "source": [
        "prediction_1.to_csv(\"./Clustering_Project.csv\")"
      ],
      "metadata": {
        "id": "D46rs5N5r-h_"
      },
      "execution_count": null,
      "outputs": []
    },
    {
      "cell_type": "code",
      "source": [],
      "metadata": {
        "id": "gKn_IL9ytGtU"
      },
      "execution_count": null,
      "outputs": []
    }
  ],
  "metadata": {
    "anaconda-cloud": {},
    "kernelspec": {
      "display_name": "Python 3",
      "language": "python",
      "name": "python3"
    },
    "language_info": {
      "codemirror_mode": {
        "name": "ipython",
        "version": 3
      },
      "file_extension": ".py",
      "mimetype": "text/x-python",
      "name": "python",
      "nbconvert_exporter": "python",
      "pygments_lexer": "ipython3",
      "version": "3.7.6"
    },
    "colab": {
      "provenance": []
    }
  },
  "nbformat": 4,
  "nbformat_minor": 0
}